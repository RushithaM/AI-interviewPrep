{
 "cells": [
  {
   "cell_type": "code",
   "execution_count": 1,
   "metadata": {},
   "outputs": [],
   "source": [
    "import aiohttp\n",
    "import asyncio\n",
    "from bs4 import BeautifulSoup\n",
    "from groq import AsyncGroq\n",
    "import json\n",
    "import re\n",
    "from functools import lru_cache\n",
    "from duckduckgo_search import AsyncDDGS\n",
    "from PyPDF2 import PdfReader\n",
    "import nest_asyncio\n",
    "import os"
   ]
  },
  {
   "cell_type": "code",
   "execution_count": 9,
   "metadata": {},
   "outputs": [
    {
     "name": "stdout",
     "output_type": "stream",
     "text": [
      "Extracted text preview: HARSHITHA DEVI MARKAPURAM  \n",
      "Vijayawada, AP| P: +918919135791 | harshithadevimarkapuram@gmail.com  \n",
      "https://www.linkedin.com/in/harshithamarkapuram  | https://github.com/HarshithaDeviM  \n",
      " \n",
      "EDUCATION   ...\n"
     ]
    }
   ],
   "source": [
    "# Enable async in Jupyter\n",
    "nest_asyncio.apply()\n",
    "\n",
    "# Cell 1: PDF Text Extraction\n",
    "def extract_text_from_pdf(file_path):\n",
    "    try:\n",
    "        with open(file_path, 'rb') as file:\n",
    "            reader = PdfReader(file)\n",
    "            text = \"\"\n",
    "            for page in reader.pages:\n",
    "                text += page.extract_text()\n",
    "        return text\n",
    "    except Exception as e:\n",
    "        return f\"Error extracting text from PDF: {e}\"\n",
    "\n",
    "# Test Cell for PDF Extraction\n",
    "def test_pdf_extraction():\n",
    "    # Test with a sample PDF file\n",
    "    sample_pdf_path = \"user_2nBXtdAjiCXrakqoxpFx1rVhL0h_resume-test.pdf\"\n",
    "    if os.path.exists(sample_pdf_path):\n",
    "        text = extract_text_from_pdf(sample_pdf_path)\n",
    "        print(f\"Extracted text preview: {text[:200]}...\")\n",
    "    else:\n",
    "        print(f\"Please provide a valid PDF path. Test file not found: {sample_pdf_path}\")\n",
    "\n",
    "answer= test_pdf_extraction()"
   ]
  },
  {
   "cell_type": "code",
   "execution_count": 10,
   "metadata": {},
   "outputs": [
    {
     "name": "stdout",
     "output_type": "stream",
     "text": [
      "Requirement already satisfied: duckduckgo_search in c:\\users\\kommi\\anaconda3\\envs\\capstone\\lib\\site-packages (6.2.7)\n",
      "Collecting duckduckgo_search\n",
      "  Downloading duckduckgo_search-6.3.0-py3-none-any.whl.metadata (25 kB)\n",
      "Requirement already satisfied: click>=8.1.7 in c:\\users\\kommi\\anaconda3\\envs\\capstone\\lib\\site-packages (from duckduckgo_search) (8.1.7)\n",
      "Collecting primp>=0.6.3 (from duckduckgo_search)\n",
      "  Downloading primp-0.6.3-cp38-abi3-win_amd64.whl.metadata (10 kB)\n",
      "Requirement already satisfied: colorama in c:\\users\\kommi\\anaconda3\\envs\\capstone\\lib\\site-packages (from click>=8.1.7->duckduckgo_search) (0.4.6)\n",
      "Downloading duckduckgo_search-6.3.0-py3-none-any.whl (27 kB)\n",
      "Downloading primp-0.6.3-cp38-abi3-win_amd64.whl (2.8 MB)\n",
      "   ---------------------------------------- 0.0/2.8 MB ? eta -:--:--\n",
      "   ------------------------------ --------- 2.1/2.8 MB 14.7 MB/s eta 0:00:01\n",
      "   ---------------------------------------- 2.8/2.8 MB 16.0 MB/s eta 0:00:00\n",
      "Installing collected packages: primp, duckduckgo_search\n",
      "  Attempting uninstall: primp\n",
      "    Found existing installation: primp 0.6.0\n",
      "    Uninstalling primp-0.6.0:\n",
      "      Successfully uninstalled primp-0.6.0\n",
      "  Attempting uninstall: duckduckgo_search\n",
      "    Found existing installation: duckduckgo_search 6.2.7\n",
      "    Uninstalling duckduckgo_search-6.2.7:\n",
      "      Successfully uninstalled duckduckgo_search-6.2.7\n",
      "Successfully installed duckduckgo_search-6.3.0 primp-0.6.3\n",
      "Note: you may need to restart the kernel to use updated packages.\n"
     ]
    },
    {
     "name": "stderr",
     "output_type": "stream",
     "text": [
      "  WARNING: Failed to remove contents in a temporary directory 'C:\\Users\\kommi\\anaconda3\\envs\\capstone\\Lib\\site-packages\\~rimp'.\n",
      "  You can safely remove it manually.\n"
     ]
    }
   ],
   "source": [
    "%pip install -U duckduckgo_search"
   ]
  },
  {
   "cell_type": "code",
   "execution_count": 11,
   "metadata": {},
   "outputs": [
    {
     "ename": "RatelimitException",
     "evalue": "https://duckduckgo.com/ 202 Ratelimit",
     "output_type": "error",
     "traceback": [
      "\u001b[1;31m---------------------------------------------------------------------------\u001b[0m",
      "\u001b[1;31mRatelimitException\u001b[0m                        Traceback (most recent call last)",
      "Cell \u001b[1;32mIn[11], line 3\u001b[0m\n\u001b[0;32m      1\u001b[0m \u001b[38;5;28;01mfrom\u001b[39;00m \u001b[38;5;21;01mduckduckgo_search\u001b[39;00m \u001b[38;5;28;01mimport\u001b[39;00m DDGS\n\u001b[1;32m----> 3\u001b[0m results \u001b[38;5;241m=\u001b[39m \u001b[43mDDGS\u001b[49m\u001b[43m(\u001b[49m\u001b[43m)\u001b[49m\u001b[38;5;241;43m.\u001b[39;49m\u001b[43mtext\u001b[49m\u001b[43m(\u001b[49m\u001b[38;5;124;43m\"\u001b[39;49m\u001b[38;5;124;43mpython programming\u001b[39;49m\u001b[38;5;124;43m\"\u001b[39;49m\u001b[43m,\u001b[49m\u001b[43m \u001b[49m\u001b[43mmax_results\u001b[49m\u001b[38;5;241;43m=\u001b[39;49m\u001b[38;5;241;43m5\u001b[39;49m\u001b[43m)\u001b[49m\n\u001b[0;32m      4\u001b[0m \u001b[38;5;28mprint\u001b[39m(results)\n",
      "File \u001b[1;32mc:\\Users\\kommi\\anaconda3\\envs\\capstone\\lib\\site-packages\\duckduckgo_search\\duckduckgo_search.py:238\u001b[0m, in \u001b[0;36mtext\u001b[1;34m(self, keywords, region, safesearch, timelimit, backend, max_results)\u001b[0m\n\u001b[0;32m      0\u001b[0m <Error retrieving source code with stack_data see ipython/ipython#13598>\n",
      "File \u001b[1;32mc:\\Users\\kommi\\anaconda3\\envs\\capstone\\lib\\site-packages\\duckduckgo_search\\duckduckgo_search.py:272\u001b[0m, in \u001b[0;36m_text_api\u001b[1;34m(self, keywords, region, safesearch, timelimit, max_results)\u001b[0m\n\u001b[0;32m    247\u001b[0m \u001b[38;5;28;01mdef\u001b[39;00m \u001b[38;5;21m_text_api\u001b[39m(\n\u001b[0;32m    248\u001b[0m     \u001b[38;5;28mself\u001b[39m,\n\u001b[0;32m    249\u001b[0m     keywords: \u001b[38;5;28mstr\u001b[39m,\n\u001b[1;32m   (...)\u001b[0m\n\u001b[0;32m    253\u001b[0m     max_results: \u001b[38;5;28mint\u001b[39m \u001b[38;5;241m|\u001b[39m \u001b[38;5;28;01mNone\u001b[39;00m \u001b[38;5;241m=\u001b[39m \u001b[38;5;28;01mNone\u001b[39;00m,\n\u001b[0;32m    254\u001b[0m ) \u001b[38;5;241m-\u001b[39m\u001b[38;5;241m>\u001b[39m \u001b[38;5;28mlist\u001b[39m[\u001b[38;5;28mdict\u001b[39m[\u001b[38;5;28mstr\u001b[39m, \u001b[38;5;28mstr\u001b[39m]]:\n\u001b[0;32m    255\u001b[0m \u001b[38;5;250m    \u001b[39m\u001b[38;5;124;03m\"\"\"DuckDuckGo text search. Query params: https://duckduckgo.com/params.\u001b[39;00m\n\u001b[0;32m    256\u001b[0m \n\u001b[0;32m    257\u001b[0m \u001b[38;5;124;03m    Args:\u001b[39;00m\n\u001b[1;32m   (...)\u001b[0m\n\u001b[0;32m    270\u001b[0m \u001b[38;5;124;03m        TimeoutException: Inherits from DuckDuckGoSearchException, raised for API request timeouts.\u001b[39;00m\n\u001b[0;32m    271\u001b[0m \u001b[38;5;124;03m    \"\"\"\u001b[39;00m\n\u001b[1;32m--> 272\u001b[0m     \u001b[38;5;28;01massert\u001b[39;00m keywords, \u001b[38;5;124m\"\u001b[39m\u001b[38;5;124mkeywords is mandatory\u001b[39m\u001b[38;5;124m\"\u001b[39m\n\u001b[0;32m    274\u001b[0m     vqd \u001b[38;5;241m=\u001b[39m \u001b[38;5;28mself\u001b[39m\u001b[38;5;241m.\u001b[39m_get_vqd(keywords)\n\u001b[0;32m    276\u001b[0m     payload \u001b[38;5;241m=\u001b[39m {\n\u001b[0;32m    277\u001b[0m         \u001b[38;5;124m\"\u001b[39m\u001b[38;5;124mq\u001b[39m\u001b[38;5;124m\"\u001b[39m: keywords,\n\u001b[0;32m    278\u001b[0m         \u001b[38;5;124m\"\u001b[39m\u001b[38;5;124mkl\u001b[39m\u001b[38;5;124m\"\u001b[39m: region,\n\u001b[1;32m   (...)\u001b[0m\n\u001b[0;32m    285\u001b[0m         \u001b[38;5;124m\"\u001b[39m\u001b[38;5;124mex\u001b[39m\u001b[38;5;124m\"\u001b[39m: \u001b[38;5;124m\"\u001b[39m\u001b[38;5;124m\"\u001b[39m,\n\u001b[0;32m    286\u001b[0m     }\n",
      "File \u001b[1;32mc:\\Users\\kommi\\anaconda3\\envs\\capstone\\lib\\site-packages\\duckduckgo_search\\duckduckgo_search.py:133\u001b[0m, in \u001b[0;36m_get_vqd\u001b[1;34m(self, keywords)\u001b[0m\n\u001b[0;32m    130\u001b[0m         \u001b[38;5;28;01mraise\u001b[39;00m RatelimitException(\u001b[38;5;124mf\u001b[39m\u001b[38;5;124m\"\u001b[39m\u001b[38;5;132;01m{\u001b[39;00mresp\u001b[38;5;241m.\u001b[39murl\u001b[38;5;132;01m}\u001b[39;00m\u001b[38;5;124m \u001b[39m\u001b[38;5;132;01m{\u001b[39;00mresp\u001b[38;5;241m.\u001b[39mstatus_code\u001b[38;5;132;01m}\u001b[39;00m\u001b[38;5;124m Ratelimit\u001b[39m\u001b[38;5;124m\"\u001b[39m)\n\u001b[0;32m    131\u001b[0m     \u001b[38;5;28;01mraise\u001b[39;00m DuckDuckGoSearchException(\u001b[38;5;124mf\u001b[39m\u001b[38;5;124m\"\u001b[39m\u001b[38;5;132;01m{\u001b[39;00mresp\u001b[38;5;241m.\u001b[39murl\u001b[38;5;132;01m}\u001b[39;00m\u001b[38;5;124m return None. \u001b[39m\u001b[38;5;132;01m{\u001b[39;00mparams\u001b[38;5;132;01m=}\u001b[39;00m\u001b[38;5;124m \u001b[39m\u001b[38;5;132;01m{\u001b[39;00mcontent\u001b[38;5;132;01m=}\u001b[39;00m\u001b[38;5;124m \u001b[39m\u001b[38;5;132;01m{\u001b[39;00mdata\u001b[38;5;132;01m=}\u001b[39;00m\u001b[38;5;124m\"\u001b[39m)\n\u001b[1;32m--> 133\u001b[0m \u001b[38;5;28;01mdef\u001b[39;00m \u001b[38;5;21m_get_vqd\u001b[39m(\u001b[38;5;28mself\u001b[39m, keywords: \u001b[38;5;28mstr\u001b[39m) \u001b[38;5;241m-\u001b[39m\u001b[38;5;241m>\u001b[39m \u001b[38;5;28mstr\u001b[39m:\n\u001b[0;32m    134\u001b[0m \u001b[38;5;250m    \u001b[39m\u001b[38;5;124;03m\"\"\"Get vqd value for a search query.\"\"\"\u001b[39;00m\n\u001b[0;32m    135\u001b[0m     resp_content \u001b[38;5;241m=\u001b[39m \u001b[38;5;28mself\u001b[39m\u001b[38;5;241m.\u001b[39m_get_url(\u001b[38;5;124m\"\u001b[39m\u001b[38;5;124mGET\u001b[39m\u001b[38;5;124m\"\u001b[39m, \u001b[38;5;124m\"\u001b[39m\u001b[38;5;124mhttps://duckduckgo.com\u001b[39m\u001b[38;5;124m\"\u001b[39m, params\u001b[38;5;241m=\u001b[39m{\u001b[38;5;124m\"\u001b[39m\u001b[38;5;124mq\u001b[39m\u001b[38;5;124m\"\u001b[39m: keywords})\n",
      "File \u001b[1;32mc:\\Users\\kommi\\anaconda3\\envs\\capstone\\lib\\site-packages\\duckduckgo_search\\duckduckgo_search.py:128\u001b[0m, in \u001b[0;36m_get_url\u001b[1;34m(self, method, url, params, content, data)\u001b[0m\n\u001b[0;32m    126\u001b[0m \u001b[38;5;28;01mif\u001b[39;00m resp\u001b[38;5;241m.\u001b[39mstatus_code \u001b[38;5;241m==\u001b[39m \u001b[38;5;241m200\u001b[39m:\n\u001b[0;32m    127\u001b[0m     \u001b[38;5;28;01mreturn\u001b[39;00m cast(\u001b[38;5;28mbytes\u001b[39m, resp\u001b[38;5;241m.\u001b[39mcontent)\n\u001b[1;32m--> 128\u001b[0m \u001b[38;5;28mself\u001b[39m\u001b[38;5;241m.\u001b[39m_exception_event\u001b[38;5;241m.\u001b[39mset()\n\u001b[0;32m    129\u001b[0m \u001b[38;5;28;01mif\u001b[39;00m resp\u001b[38;5;241m.\u001b[39mstatus_code \u001b[38;5;129;01min\u001b[39;00m (\u001b[38;5;241m202\u001b[39m, \u001b[38;5;241m301\u001b[39m, \u001b[38;5;241m403\u001b[39m):\n\u001b[0;32m    130\u001b[0m     \u001b[38;5;28;01mraise\u001b[39;00m RatelimitException(\u001b[38;5;124mf\u001b[39m\u001b[38;5;124m\"\u001b[39m\u001b[38;5;132;01m{\u001b[39;00mresp\u001b[38;5;241m.\u001b[39murl\u001b[38;5;132;01m}\u001b[39;00m\u001b[38;5;124m \u001b[39m\u001b[38;5;132;01m{\u001b[39;00mresp\u001b[38;5;241m.\u001b[39mstatus_code\u001b[38;5;132;01m}\u001b[39;00m\u001b[38;5;124m Ratelimit\u001b[39m\u001b[38;5;124m\"\u001b[39m)\n",
      "\u001b[1;31mRatelimitException\u001b[0m: https://duckduckgo.com/ 202 Ratelimit"
     ]
    }
   ],
   "source": [
    "from duckduckgo_search import DDGS\n",
    "\n",
    "results = DDGS().text(\"python programming\", max_results=5)\n",
    "print(results)"
   ]
  },
  {
   "cell_type": "code",
   "execution_count": 12,
   "metadata": {},
   "outputs": [
    {
     "name": "stdout",
     "output_type": "stream",
     "text": [
      "{\"searchParameters\":{\"q\":\"apple inc\",\"type\":\"search\",\"engine\":\"google\"},\"knowledgeGraph\":{\"title\":\"Apple\",\"type\":\"Technology company\",\"website\":\"http://www.apple.com/\",\"imageUrl\":\"https://encrypted-tbn0.gstatic.com/images?q=tbn:ANd9GcQwGQRv5TjjkycpctY66mOg_e2-npacrmjAb6_jAWhzlzkFE3OTjxyzbA&s=0\",\"description\":\"Apple Inc. is an American multinational corporation and technology company headquartered in Cupertino, California, in Silicon Valley. It is best known for its consumer electronics, software, and services.\",\"descriptionSource\":\"Wikipedia\",\"descriptionLink\":\"https://en.wikipedia.org/wiki/Apple_Inc.\",\"attributes\":{\"Founders\":\"Steve Jobs, Steve Wozniak, and Ronald Wayne\",\"Customer service\":\"1 (800) 275-2273\",\"CEO\":\"Tim Cook (Aug 24, 2011–)\",\"Headquarters\":\"Cupertino, CA\",\"Founded\":\"April 1, 1976, Los Altos, CA\"}},\"organic\":[{\"title\":\"Apple\",\"link\":\"https://www.apple.com/\",\"snippet\":\"Discover the innovative world of Apple and shop everything iPhone, iPad, Apple Watch, Mac, and Apple TV, plus explore accessories, entertainment, ...\",\"sitelinks\":[{\"title\":\"iPhone\",\"link\":\"https://www.apple.com/iphone/\"},{\"title\":\"Store\",\"link\":\"https://www.apple.com/store\"},{\"title\":\"Support\",\"link\":\"https://support.apple.com/\"},{\"title\":\"Careers at Apple\",\"link\":\"https://www.apple.com/careers/us/\"},{\"title\":\"iPad\",\"link\":\"https://www.apple.com/ipad/\"}],\"position\":1},{\"title\":\"Apple Inc. - Wikipedia\",\"link\":\"https://en.wikipedia.org/wiki/Apple_Inc.\",\"snippet\":\"Apple Inc. is an American multinational corporation and technology company headquartered and incorporated in Cupertino, California, in Silicon Valley.\",\"sitelinks\":[{\"title\":\"History\",\"link\":\"https://en.wikipedia.org/wiki/History_of_Apple_Inc.\"},{\"title\":\"List of Apple products\",\"link\":\"https://en.wikipedia.org/wiki/List_of_Apple_products\"},{\"title\":\"Apple Inc. and unions\",\"link\":\"https://en.wikipedia.org/wiki/Apple_Inc._and_unions\"},{\"title\":\"Apple Park\",\"link\":\"https://en.wikipedia.org/wiki/Apple_Park\"}],\"position\":2},{\"title\":\"Apple Inc. (AAPL) Company Profile & Facts - Yahoo Finance\",\"link\":\"https://finance.yahoo.com/quote/AAPL/profile/\",\"snippet\":\"Apple Inc. designs, manufactures, and markets smartphones, personal computers, tablets, wearables, and accessories worldwide. The company offers iPhone, a line ...\",\"position\":3},{\"title\":\"Apple Inc - Company Profile and News - Bloomberg Markets\",\"link\":\"https://www.bloomberg.com/profile/company/AAPL:US\",\"snippet\":\"Apple Inc. designs, manufactures, and markets smartphones, personal computers, tablets, wearables and accessories, and sells a variety of related ...\",\"position\":4},{\"title\":\"Apple Inc. (AAPL) Stock Price, News, Quote & History - Yahoo Finance\",\"link\":\"https://finance.yahoo.com/quote/AAPL/\",\"snippet\":\"Apple Inc. designs, manufactures, and markets smartphones, personal computers, tablets, wearables, and accessories worldwide. The company offers iPhone, ...\",\"sitelinks\":[{\"title\":\"Profile\",\"link\":\"https://finance.yahoo.com/quote/AAPL/profile/\"},{\"title\":\"Community\",\"link\":\"https://finance.yahoo.com/quote/AAPL/community/\"},{\"title\":\"Statistics\",\"link\":\"https://finance.yahoo.com/quote/AAPL/key-statistics/\"},{\"title\":\"Jim Cramer on Apple Inc...\",\"link\":\"https://finance.yahoo.com/news/jim-cramer-apple-inc-aapl-040132518.html\"}],\"position\":5},{\"title\":\"Apple Inc. Stock Quote (U.S.: Nasdaq) - AAPL - MarketWatch\",\"link\":\"https://www.marketwatch.com/investing/stock/aapl\",\"snippet\":\"Apple, Inc. engages in the design, manufacture, and sale of smartphones, personal computers, tablets, wearables and accessories, and other varieties of related ...\",\"position\":6},{\"title\":\"AAPL.O - | Stock Price & Latest News - Reuters\",\"link\":\"https://www.reuters.com/markets/companies/AAPL.O/\",\"snippet\":\"Apple Inc. designs, manufactures and markets smartphones, personal computers, tablets, wearables and accessories, and sells a variety of related services.\",\"position\":7}],\"places\":[{\"title\":\"Apple The Galleria\",\"address\":\"Fort Lauderdale, FL\",\"cid\":\"4827483897282550362\"},{\"title\":\"Apples Trading\",\"address\":\"Hollywood, FL\",\"cid\":\"13515268822431057517\"},{\"title\":\"Apple Contractors, Inc\",\"address\":\"Opens 8 AM\",\"cid\":\"7658050155090541803\"}],\"peopleAlsoAsk\":[{\"question\":\"What is inc in Apple Inc?\",\"snippet\":\"The short answer is yes: “Inc.\\\" in a company name signifies that a business is a legal entity called a corporation or an incorporated business. \\\"Inc.\\\" is an abbreviation of \\\"incorporated.\\\"\",\"title\":\"What Does 'Inc.' Mean in a Company Name? | LegalZoom\",\"link\":\"https://www.legalzoom.com/articles/what-does-incorporated-mean-in-business\"},{\"question\":\"Who is Apple currently owned by?\",\"snippet\":\"Apple (AAPL) Ownership Overview The ownership structure of Apple (AAPL) stock is a mix of institutional, retail and individual investors. Approximately 17.31% of the company's stock is owned by Institutional Investors, 0.06% is owned by Insiders and 64.32% is owned by Public Companies and Individual Investors.\",\"title\":\"Who owns Apple? AAPL Stock Ownership - TipRanks.com\",\"link\":\"https://www.tipranks.com/stocks/aapl/ownership\"},{\"question\":\"Why did Apple change to Apple Inc?\",\"snippet\":\"During his keynote speech at the Macworld Expo on January 9, 2007, Jobs announced the renaming of Apple Computer, Inc. to Apple Inc., because the company had broadened its focus from computers to consumer electronics. This event also saw the announcement of the iPhone and the Apple TV.\",\"title\":\"Apple Inc. - Wikipedia\",\"link\":\"https://en.wikipedia.org/wiki/Apple_Inc.\"},{\"question\":\"Why Apple Inc is called Apple?\",\"snippet\":\"But in reality, Steve Jobs named the company Apple because he liked the fruit. Steve Jobs followed a fruitarian diet and suggested the name Apple to Wozniak after Jobs visited an apple orchard.\",\"title\":\"The Apple Logo: History, Meaning, Design Influences, and Evolution\",\"link\":\"https://www.crowdspring.com/blog/apple-logo/\"}],\"relatedSearches\":[{\"query\":\"iOS 18\"},{\"query\":\"Apple Inc full form\"},{\"query\":\"Apple company history\"},{\"query\":\"Apple Inc careers\"},{\"query\":\"Apple company owner\"},{\"query\":\"Apple Inc website\"},{\"query\":\"Apple Inc investor relations\"},{\"query\":\"Apple Store\"},{\"query\":\"Apple Inc address\"}],\"credits\":1}\n"
     ]
    }
   ],
   "source": [
    "import http.client\n",
    "import json\n",
    "\n",
    "conn = http.client.HTTPSConnection(\"google.serper.dev\")\n",
    "payload = json.dumps({\n",
    "  \"q\": \"apple inc\"\n",
    "})\n",
    "headers = {\n",
    "  'X-API-KEY': '93e413adf728c7fa2944f89559e7ee1b3ececd9d',\n",
    "  'Content-Type': 'application/json'\n",
    "}\n",
    "conn.request(\"POST\", \"/search\", payload, headers)\n",
    "res = conn.getresponse()\n",
    "data = res.read()\n",
    "print(data.decode(\"utf-8\"))"
   ]
  },
  {
   "cell_type": "code",
   "execution_count": 13,
   "metadata": {},
   "outputs": [
    {
     "name": "stdout",
     "output_type": "stream",
     "text": [
      "['https://www.apple.com/', 'https://en.wikipedia.org/wiki/Apple_Inc.', 'https://finance.yahoo.com/quote/AAPL/', 'https://finance.yahoo.com/quote/AAPL/profile/', 'https://www.bloomberg.com/profile/company/AAPL:US', 'https://www.marketwatch.com/investing/stock/aapl', 'https://www.reuters.com/markets/companies/AAPL.O/', 'http://www.apple.com/']\n"
     ]
    }
   ],
   "source": [
    "import http.client\n",
    "import json\n",
    "\n",
    "conn = http.client.HTTPSConnection(\"google.serper.dev\")\n",
    "payload = json.dumps({\n",
    "  \"q\": \"apple inc\"\n",
    "})\n",
    "headers = {\n",
    "  'X-API-KEY': '93e413adf728c7fa2944f89559e7ee1b3ececd9d',\n",
    "  'Content-Type': 'application/json'\n",
    "}\n",
    "conn.request(\"POST\", \"/search\", payload, headers)\n",
    "res = conn.getresponse()\n",
    "data = res.read()\n",
    "response_json = json.loads(data.decode(\"utf-8\"))\n",
    "\n",
    "# Extracting links\n",
    "links = []\n",
    "\n",
    "# Extract links from organic results\n",
    "for result in response_json.get(\"organic\", []):\n",
    "    links.append(result.get(\"link\"))\n",
    "\n",
    "# Extract link from knowledge graph\n",
    "if \"knowledgeGraph\" in response_json:\n",
    "    links.append(response_json[\"knowledgeGraph\"].get(\"website\"))\n",
    "\n",
    "# Print all extracted links\n",
    "print(links)"
   ]
  },
  {
   "cell_type": "code",
   "execution_count": 14,
   "metadata": {},
   "outputs": [
    {
     "name": "stdout",
     "output_type": "stream",
     "text": [
      "{\"searchParameters\":{\"q\":\"apple inc\",\"type\":\"search\",\"engine\":\"google\"},\"knowledgeGraph\":{\"title\":\"Apple\",\"type\":\"Technology company\",\"website\":\"http://www.apple.com/\",\"imageUrl\":\"https://encrypted-tbn0.gstatic.com/images?q=tbn:ANd9GcQwGQRv5TjjkycpctY66mOg_e2-npacrmjAb6_jAWhzlzkFE3OTjxyzbA&s=0\",\"description\":\"Apple Inc. is an American multinational corporation and technology company headquartered in Cupertino, California, in Silicon Valley. It is best known for its consumer electronics, software, and services.\",\"descriptionSource\":\"Wikipedia\",\"descriptionLink\":\"https://en.wikipedia.org/wiki/Apple_Inc.\",\"attributes\":{\"Founders\":\"Steve Jobs, Steve Wozniak, and Ronald Wayne\",\"Customer service\":\"1 (800) 275-2273\",\"CEO\":\"Tim Cook (Aug 24, 2011–)\",\"Headquarters\":\"Cupertino, CA\",\"Founded\":\"April 1, 1976, Los Altos, CA\"}},\"organic\":[{\"title\":\"Apple\",\"link\":\"https://www.apple.com/\",\"snippet\":\"Discover the innovative world of Apple and shop everything iPhone, iPad, Apple Watch, Mac, and Apple TV, plus explore accessories, entertainment, ...\",\"sitelinks\":[{\"title\":\"iPhone\",\"link\":\"https://www.apple.com/iphone/\"},{\"title\":\"Store\",\"link\":\"https://www.apple.com/store\"},{\"title\":\"Support\",\"link\":\"https://support.apple.com/\"},{\"title\":\"Careers at Apple\",\"link\":\"https://www.apple.com/careers/us/\"},{\"title\":\"iPad\",\"link\":\"https://www.apple.com/ipad/\"}],\"position\":1},{\"title\":\"Apple Inc. - Wikipedia\",\"link\":\"https://en.wikipedia.org/wiki/Apple_Inc.\",\"snippet\":\"Apple Inc. is an American multinational corporation and technology company headquartered and incorporated in Cupertino, California, in Silicon Valley.\",\"sitelinks\":[{\"title\":\"History\",\"link\":\"https://en.wikipedia.org/wiki/History_of_Apple_Inc.\"},{\"title\":\"List of Apple products\",\"link\":\"https://en.wikipedia.org/wiki/List_of_Apple_products\"},{\"title\":\"Apple Inc. and unions\",\"link\":\"https://en.wikipedia.org/wiki/Apple_Inc._and_unions\"},{\"title\":\"Apple Park\",\"link\":\"https://en.wikipedia.org/wiki/Apple_Park\"}],\"position\":2},{\"title\":\"Apple Inc. (AAPL) Company Profile & Facts - Yahoo Finance\",\"link\":\"https://finance.yahoo.com/quote/AAPL/profile/\",\"snippet\":\"Apple Inc. designs, manufactures, and markets smartphones, personal computers, tablets, wearables, and accessories worldwide. The company offers iPhone, a line ...\",\"position\":3},{\"title\":\"Apple Inc. (AAPL) Stock Price, News, Quote & History - Yahoo Finance\",\"link\":\"https://finance.yahoo.com/quote/AAPL/\",\"snippet\":\"Find the latest Apple Inc. (AAPL) stock quote, history, news and other vital information to help you with your stock trading and investing.\",\"position\":4},{\"title\":\"Apple Inc - Company Profile and News - Bloomberg Markets\",\"link\":\"https://www.bloomberg.com/profile/company/AAPL:US\",\"snippet\":\"Apple Inc. designs, manufactures, and markets smartphones, personal computers, tablets, wearables and accessories, and sells a variety of related ...\",\"position\":5},{\"title\":\"Apple Inc. Stock Quote (U.S.: Nasdaq) - AAPL - MarketWatch\",\"link\":\"https://www.marketwatch.com/investing/stock/aapl\",\"snippet\":\"Apple, Inc. engages in the design, manufacture, and sale of smartphones, personal computers, tablets, wearables and accessories, and other varieties of related ...\",\"position\":6},{\"title\":\"AAPL.O - | Stock Price & Latest News - Reuters\",\"link\":\"https://www.reuters.com/markets/companies/AAPL.O/\",\"snippet\":\"Apple Inc. designs, manufactures and markets smartphones, personal computers, tablets, wearables and accessories, and sells a variety of related services.\",\"position\":7}],\"places\":[{\"title\":\"Miller Apple LP\",\"address\":\"5084 Exchange Dr\",\"cid\":\"1440370840821337885\"},{\"title\":\"Damouni Farms, Inc. - Apple Orchard\",\"address\":\"2391 Reid Rd\",\"cid\":\"8538927509691401262\"},{\"title\":\"Apple Marketing Co\",\"address\":\"Commerce Charter Twp, MI\",\"cid\":\"18062163730514729049\"}],\"peopleAlsoAsk\":[{\"question\":\"What is inc in Apple Inc?\",\"snippet\":\"The short answer is yes: “Inc.\\\" in a company name signifies that a business is a legal entity called a corporation or an incorporated business. \\\"Inc.\\\" is an abbreviation of \\\"incorporated.\\\"\",\"title\":\"What Does 'Inc.' Mean in a Company Name? | LegalZoom\",\"link\":\"https://www.legalzoom.com/articles/what-does-incorporated-mean-in-business\"},{\"question\":\"Who is Apple currently owned by?\",\"snippet\":\"Apple (AAPL) Ownership Overview The ownership structure of Apple (AAPL) stock is a mix of institutional, retail and individual investors. Approximately 17.31% of the company's stock is owned by Institutional Investors, 0.06% is owned by Insiders and 64.32% is owned by Public Companies and Individual Investors.\",\"title\":\"Who owns Apple? AAPL Stock Ownership - TipRanks.com\",\"link\":\"https://www.tipranks.com/stocks/aapl/ownership\"},{\"question\":\"Why did Apple change to Apple Inc?\",\"snippet\":\"During his keynote speech at the Macworld Expo on January 9, 2007, Jobs announced the renaming of Apple Computer, Inc. to Apple Inc., because the company had broadened its focus from computers to consumer electronics. This event also saw the announcement of the iPhone and the Apple TV.\",\"title\":\"Apple Inc. - Wikipedia\",\"link\":\"https://en.wikipedia.org/wiki/Apple_Inc.\"},{\"question\":\"Why Apple Inc is called Apple?\",\"snippet\":\"But in reality, Steve Jobs named the company Apple because he liked the fruit. Steve Jobs followed a fruitarian diet and suggested the name Apple to Wozniak after Jobs visited an apple orchard.\",\"title\":\"The Apple Logo: History, Meaning, Design Influences, and Evolution\",\"link\":\"https://www.crowdspring.com/blog/apple-logo/\"}],\"relatedSearches\":[{\"query\":\"iOS 18\"},{\"query\":\"Apple Inc full form\"},{\"query\":\"Apple company history\"},{\"query\":\"Apple Inc careers\"},{\"query\":\"Apple company owner\"},{\"query\":\"Apple Inc website\"},{\"query\":\"Apple Store\"},{\"query\":\"Apple Inc investor relations\"},{\"query\":\"Apple Inc address\"}],\"credits\":1}\n"
     ]
    }
   ],
   "source": [
    "import requests\n",
    "import json\n",
    "\n",
    "url = \"https://google.serper.dev/search\"\n",
    "\n",
    "payload = json.dumps({\n",
    "  \"q\": \"apple inc\"\n",
    "})\n",
    "headers = {\n",
    "  'X-API-KEY': '93e413adf728c7fa2944f89559e7ee1b3ececd9d',\n",
    "  'Content-Type': 'application/json'\n",
    "}\n",
    "\n",
    "response = requests.request(\"POST\", url, headers=headers, data=payload)\n",
    "\n",
    "print(response.text)\n"
   ]
  },
  {
   "cell_type": "code",
   "execution_count": 15,
   "metadata": {},
   "outputs": [
    {
     "name": "stdout",
     "output_type": "stream",
     "text": [
      "['https://www.apple.com/', 'https://en.wikipedia.org/wiki/Apple_Inc.', 'https://finance.yahoo.com/quote/AAPL/profile/', 'https://www.bloomberg.com/profile/company/AAPL:US', 'https://finance.yahoo.com/quote/AAPL/', 'https://www.marketwatch.com/investing/stock/aapl', 'https://www.reuters.com/markets/companies/AAPL.O/', 'http://www.apple.com/']\n"
     ]
    }
   ],
   "source": [
    "import requests\n",
    "import json\n",
    "\n",
    "url = \"https://google.serper.dev/search\"\n",
    "\n",
    "payload = json.dumps({\n",
    "  \"q\": \"apple inc\"\n",
    "})\n",
    "headers = {\n",
    "  'X-API-KEY': '93e413adf728c7fa2944f89559e7ee1b3ececd9d',\n",
    "  'Content-Type': 'application/json'\n",
    "}\n",
    "\n",
    "response = requests.request(\"POST\", url, headers=headers, data=payload)\n",
    "response_json = response.json()  # Parse the JSON response\n",
    "\n",
    "# Extracting links\n",
    "links = []\n",
    "\n",
    "# Extract links from organic results\n",
    "for result in response_json.get(\"organic\", []):\n",
    "    links.append(result.get(\"link\"))\n",
    "\n",
    "# Extract link from knowledge graph\n",
    "if \"knowledgeGraph\" in response_json:\n",
    "    links.append(response_json[\"knowledgeGraph\"].get(\"website\"))\n",
    "\n",
    "# Print all extracted links\n",
    "print(links)"
   ]
  },
  {
   "cell_type": "code",
   "execution_count": null,
   "metadata": {},
   "outputs": [],
   "source": []
  }
 ],
 "metadata": {
  "kernelspec": {
   "display_name": "capstone",
   "language": "python",
   "name": "python3"
  },
  "language_info": {
   "codemirror_mode": {
    "name": "ipython",
    "version": 3
   },
   "file_extension": ".py",
   "mimetype": "text/x-python",
   "name": "python",
   "nbconvert_exporter": "python",
   "pygments_lexer": "ipython3",
   "version": "3.10.14"
  }
 },
 "nbformat": 4,
 "nbformat_minor": 2
}
